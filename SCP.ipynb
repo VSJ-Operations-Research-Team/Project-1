{
 "cells": [
  {
   "cell_type": "markdown",
   "metadata": {},
   "source": [
    "# Proyecto SCP\n",
    " * Jared Evander Fuentes Sánchez\n",
    " * Vicente Garza Reyna\n",
    " * Sebastián Terrazas Santillana"
   ]
  },
  {
   "cell_type": "code",
   "execution_count": null,
   "metadata": {},
   "outputs": [],
   "source": [
    "import cplex\n",
    "from os import listdir\n",
    "from io import StringIO"
   ]
  },
  {
   "cell_type": "code",
   "execution_count": null,
   "metadata": {},
   "outputs": [],
   "source": [
    "path = \"Problem-Set/\""
   ]
  },
  {
   "cell_type": "code",
   "execution_count": null,
   "metadata": {},
   "outputs": [],
   "source": [
    "def valueBuffer(filename):\n",
    "    with open(filename) as file:\n",
    "        for line in file:\n",
    "            for word in line.split():\n",
    "                yield int(word)"
   ]
  },
  {
   "cell_type": "code",
   "execution_count": null,
   "metadata": {},
   "outputs": [],
   "source": [
    "\n",
    "\n",
    "def readValues(filename):\n",
    "    values = valueBuffer(filename)\n",
    "    \n",
    "    costs = []\n",
    "    sets = []\n",
    "    set_number = values.__next__()\n",
    "    element_number = values.__next__()\n",
    "    \n",
    "    # Leer datos\n",
    "    for _ in range(element_number):\n",
    "        costs.append( values.__next__() )\n",
    "    \n",
    "    for _ in range(set_number):\n",
    "        num_elements_in_set = values.__next__()\n",
    "        elements_in_set = []\n",
    "        for _ in range(num_elements_in_set):\n",
    "            elements_in_set.append( values.__next__() )\n",
    "        sets.append( elements_in_set )\n",
    "        \n",
    "    return sets, costs\n",
    "\n",
    "def fixFormat(sets, costs):\n",
    "    objective = [ sum( [ costs[e-1] for e in s ] ) for s in sets ]\n",
    "    elements = [ [] for _ in range(len(costs)) ]\n",
    "    constraints = []\n",
    "    \n",
    "    for i in range(len(sets)):\n",
    "        for e in sets[i]:\n",
    "            elements[e-1].append(i)\n",
    "    \n",
    "    for e in elements:\n",
    "        cval = [[ s for s in e ], [1] * len(e)]\n",
    "        constraints.append(cval)\n",
    "        \n",
    "    return objective, constraints"
   ]
  },
  {
   "cell_type": "code",
   "execution_count": null,
   "metadata": {},
   "outputs": [],
   "source": [
    "# Inicio del problema\n",
    "def solveProblem(filename):\n",
    "    \n",
    "    # Leer Datos\n",
    "    sets, costs = readValues(filename)\n",
    "    objective, constraints = fixFormat(sets, costs)\n",
    "    \n",
    "    ns = len(sets)\n",
    "    ne = len(costs)\n",
    "    \n",
    "    # Definir el problema\n",
    "    problem = cplex.Cplex()\n",
    "    problem.objective.set_sense(problem.objective.sense.minimize)\n",
    "    \n",
    "    # Variables\n",
    "    names = [f\"set {i+1}\" for i in range(ns)]\n",
    "    problem.variables.add(\n",
    "        obj = objective,\n",
    "        names = names,\n",
    "        types = [\"B\"] * ns\n",
    "        )\n",
    "    \n",
    "    # Restricciones\n",
    "    cnames = [f\"element{i+1}\" for i in range(ne)]\n",
    "    rhs = [1] * ne\n",
    "    problem.linear_constraints.add(\n",
    "        names = cnames,\n",
    "        lin_expr = constraints,\n",
    "        rhs = rhs,\n",
    "        senses = [\"G\"] * ne\n",
    "        )\n",
    "    \n",
    "    \n",
    "    # Resolver el problema\n",
    "    problem.set_results_stream(None)\n",
    "    problem.solve()\n",
    "    \n",
    "    print()\n",
    "    try:\n",
    "        print(\"Soluciones:\", problem.solution.get_values())\n",
    "        print(\"Valor Objetivo:\", problem.solution.get_objective_value())\n",
    "    except:\n",
    "        print(\"No hay soluciones reales\")\n",
    "    "
   ]
  },
  {
   "cell_type": "code",
   "execution_count": null,
   "metadata": {
    "scrolled": false
   },
   "outputs": [],
   "source": [
    "# Read File Loop\n",
    "\n",
    "for file in listdir( path ):\n",
    "    solveProblem( path + file )\n",
    "\n",
    "\n",
    "#solveProblem( path + listdir(path)[0] )"
   ]
  },
  {
   "cell_type": "code",
   "execution_count": null,
   "metadata": {},
   "outputs": [],
   "source": []
  }
 ],
 "metadata": {
  "kernelspec": {
   "display_name": "Python 3",
   "language": "python",
   "name": "python3"
  },
  "language_info": {
   "codemirror_mode": {
    "name": "ipython",
    "version": 3
   },
   "file_extension": ".py",
   "mimetype": "text/x-python",
   "name": "python",
   "nbconvert_exporter": "python",
   "pygments_lexer": "ipython3",
   "version": "3.8.5"
  }
 },
 "nbformat": 4,
 "nbformat_minor": 4
}
