{
 "cells": [
  {
   "cell_type": "markdown",
   "metadata": {},
   "source": [
    "# Proyecto SCP\n",
    " * Jared Evander Fuentes Sánchez\n",
    " * Vicente Garza Reyna\n",
    " * Sebastián Terrazas Santillana"
   ]
  },
  {
   "cell_type": "code",
   "execution_count": null,
   "metadata": {},
   "outputs": [],
   "source": [
    "import cplex\n",
    "from os import listdir\n",
    "from io import StringIO"
   ]
  },
  {
   "cell_type": "code",
   "execution_count": null,
   "metadata": {},
   "outputs": [],
   "source": [
    "path = \"Problem-Set/\""
   ]
  },
  {
   "cell_type": "code",
   "execution_count": null,
   "metadata": {},
   "outputs": [],
   "source": [
    "def value_stream(filename):\n",
    "    with open(filename, \"r\") as file:\n",
    "        for line in file:\n",
    "            for value in line.split():\n",
    "                yield int(value)"
   ]
  },
  {
   "cell_type": "code",
   "execution_count": null,
   "metadata": {},
   "outputs": [],
   "source": [
    "# Inicio del problema\n",
    "def solveProblem(filename):\n",
    "    problem = cplex.Cplex()\n",
    "    weights = []\n",
    "    restrictions = []\n",
    "    stream = StringIO()\n",
    "    \n",
    "    # Leer Datos\n",
    "    values = value_stream(filename)\n",
    "    \n",
    "    n = values.__next__()\n",
    "    r = values.__next__()\n",
    "    \n",
    "    for _ in range(n):\n",
    "        weights.append( values.__next__() )\n",
    "    print(weights)\n",
    "    \n",
    "    \n",
    "    # Resolver el problema\n",
    "    \n",
    "    # Mostrar Solución\n",
    "    "
   ]
  },
  {
   "cell_type": "code",
   "execution_count": null,
   "metadata": {
    "scrolled": false
   },
   "outputs": [],
   "source": [
    "# Read File Loop\n",
    "'''\n",
    "for file in listdir( path ):\n",
    "    solveProblem( path + file )\n",
    "\n",
    "'''\n",
    "solveProblem( path + listdir(path)[0] )"
   ]
  },
  {
   "cell_type": "code",
   "execution_count": null,
   "metadata": {},
   "outputs": [],
   "source": []
  },
  {
   "cell_type": "code",
   "execution_count": null,
   "metadata": {},
   "outputs": [],
   "source": []
  }
 ],
 "metadata": {
  "kernelspec": {
   "display_name": "Python 3",
   "language": "python",
   "name": "python3"
  },
  "language_info": {
   "codemirror_mode": {
    "name": "ipython",
    "version": 3
   },
   "file_extension": ".py",
   "mimetype": "text/x-python",
   "name": "python",
   "nbconvert_exporter": "python",
   "pygments_lexer": "ipython3",
   "version": "3.8.5"
  }
 },
 "nbformat": 4,
 "nbformat_minor": 4
}
