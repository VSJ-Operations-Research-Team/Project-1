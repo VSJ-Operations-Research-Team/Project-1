{
 "cells": [
  {
   "cell_type": "markdown",
   "metadata": {},
   "source": [
    "# Proyecto SCP\n",
    " * Jared Evander Fuentes Sánchez\n",
    " * Vicente Garza Reyna\n",
    " * Sebastián Terrazas Santillana"
   ]
  },
  {
   "cell_type": "code",
   "execution_count": 54,
   "metadata": {},
   "outputs": [],
   "source": [
    "import cplex\n",
    "from os import listdir\n",
    "from io import StringIO"
   ]
  },
  {
   "cell_type": "code",
   "execution_count": 55,
   "metadata": {},
   "outputs": [],
   "source": [
    "path = \"Problem-Set/\""
   ]
  },
  {
   "cell_type": "code",
   "execution_count": 56,
   "metadata": {},
   "outputs": [],
   "source": [
    "def value_stream(filename):\n",
    "    with open(filename, \"r\") as file:\n",
    "        for line in file:\n",
    "            for value in line.split():\n",
    "                yield int(value)"
   ]
  },
  {
   "cell_type": "code",
   "execution_count": 57,
   "metadata": {},
   "outputs": [],
   "source": [
    "def SetConstraints(values, objective, row):\n",
    "    poisicones = []\n",
    "    \n",
    "    for f in range(row):\n",
    "        v = values.__next__()\n",
    "        try:\n",
    "            for _ in range(v):\n",
    "                posiciones.append( values.__next__() )\n",
    "            constraint = Construir_Constraint(objective, posiciones, v)\n",
    "            yield constraint\n",
    "        except:\n",
    "            print(\"Ocurrió un problema con los constraints\")\n",
    "        \n",
    "def Construir_Constraint (objective, posiciones, v):\n",
    "    for pos in range(v):\n",
    "        if pos in posiciones:\n",
    "            yield objective[pos]\n",
    "        else:\n",
    "            yield 0"
   ]
  },
  {
   "cell_type": "code",
   "execution_count": 63,
   "metadata": {},
   "outputs": [],
   "source": [
    "# Inicio del problema\n",
    "def solveProblem(filename):\n",
    "    problem = cplex.Cplex()\n",
    "    objective = []\n",
    "    #stream = StringIO()\n",
    "    \n",
    "    # Leer Datos\n",
    "    values = value_stream(filename)\n",
    "    \n",
    "    r = values.__next__()\n",
    "    c = values.__next__()\n",
    "    \n",
    "    for _ in range(c):\n",
    "        objective.append( values.__next__() )\n",
    "    #print(objective)\n",
    "    \n",
    "    \n",
    "    # Resolver el problema\n",
    "    problem.objective.set_sense(problem.objective.sense.minimize)\n",
    "    \n",
    "    #Variables\n",
    "    names = [\"x\"] * c\n",
    "    \n",
    "    lower_bounds = [0.0] * c\n",
    "    upper_bounds = [cplex.infinity] * c\n",
    "\n",
    "    problem.variables.add(obj = objective,\n",
    "                          lb = lower_bounds,\n",
    "                          ub = upper_bounds,\n",
    "                          names = names)\n",
    "\n",
    "    # Constraints\n",
    "    constraint_names = [\"c\"] * r\n",
    "    \n",
    "    '''\n",
    "    constraints = SetConstraints(values, objective, r)\n",
    "    print(constraints)\n",
    "    \n",
    "    rhs = [1.0] * r\n",
    "\n",
    "    constraint_senses = [ \"G\" ] * r\n",
    "\n",
    "    problem.linear_constraints.add(lin_expr = constraints,\n",
    "                                   senses = constraint_senses,\n",
    "                                   rhs = rhs,\n",
    "                                   names = constraint_names)\n",
    "\n",
    "    problem.solve()\n",
    "\n",
    "    # Mostrar Solución\n",
    "    try:\n",
    "        print(\"Soluciones:\", problem.solution.get_values())\n",
    "        print(\"Valor Objetivo:\", problem.solution.get_objective_value())\n",
    "    except:\n",
    "        print(\"No hay soluciones reales\")\n",
    "    #'''"
   ]
  },
  {
   "cell_type": "code",
   "execution_count": 64,
   "metadata": {
    "scrolled": false
   },
   "outputs": [
    {
     "name": "stdout",
     "output_type": "stream",
     "text": [
      "<generator object SetConstraints at 0x000001E6EE4DD6D0>\n"
     ]
    }
   ],
   "source": [
    "# Read File Loop\n",
    "'''\n",
    "for file in listdir( path ):\n",
    "    solveProblem( path + file )\n",
    "\n",
    "'''\n",
    "\n",
    "solveProblem( path + listdir(path)[0] )"
   ]
  },
  {
   "cell_type": "code",
   "execution_count": null,
   "metadata": {},
   "outputs": [],
   "source": []
  }
 ],
 "metadata": {
  "kernelspec": {
   "display_name": "Python 3",
   "language": "python",
   "name": "python3"
  },
  "language_info": {
   "codemirror_mode": {
    "name": "ipython",
    "version": 3
   },
   "file_extension": ".py",
   "mimetype": "text/x-python",
   "name": "python",
   "nbconvert_exporter": "python",
   "pygments_lexer": "ipython3",
   "version": "3.8.5"
  }
 },
 "nbformat": 4,
 "nbformat_minor": 4
}
